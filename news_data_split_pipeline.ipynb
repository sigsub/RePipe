{
 "cells": [
  {
   "cell_type": "markdown",
   "id": "a86c2aa0",
   "metadata": {},
   "source": [
    "### Train test split process for the news dataset"
   ]
  },
  {
   "cell_type": "code",
   "execution_count": null,
   "id": "aad261c0",
   "metadata": {},
   "outputs": [],
   "source": [
    "import pandas as pd\n",
    "df = pd.read_pickle('PATH/TO/SCRAPED/NEWS/DATA/DATAFRAME/PKL')\n",
    "df = df[df['pars'].apply(lambda x: x!=[])]\n",
    "df = df[df['short_description'].apply(lambda x: x!='')]\n",
    "df['num_words'] = df['pars'].apply(lambda x: len(' '.join(x).split()))\n",
    "df['num_pars'] = df['pars'].apply(lambda x: len(x))\n",
    "cats = df.groupby('category').agg({'num_words': 'mean'}).sort_values('num_words', ascending=False).head(8).index\n",
    "df = df[df['category'].isin(cats)]\n",
    "df['category'].value_counts()\n",
    "df['id'] = df['link'].apply(lambda x: x.split('/')[-1])\n",
    "df['abstract'] = df['short_description']"
   ]
  },
  {
   "cell_type": "code",
   "execution_count": null,
   "id": "1d00a9ee",
   "metadata": {},
   "outputs": [
    {
     "data": {
      "text/plain": [
       "category\n",
       "WORLD NEWS        300\n",
       "WELLNESS          276\n",
       "POLITICS          266\n",
       "IMPACT            258\n",
       "WOMEN             245\n",
       "HEALTHY LIVING    226\n",
       "BUSINESS          205\n",
       "GREEN             202\n",
       "Name: count, dtype: int64"
      ]
     },
     "execution_count": 4,
     "metadata": {},
     "output_type": "execute_result"
    }
   ],
   "source": [
    "\n",
    "df['category'].value_counts()"
   ]
  },
  {
   "cell_type": "code",
   "execution_count": null,
   "id": "442789f8",
   "metadata": {},
   "outputs": [],
   "source": [
    "train_df = df.groupby('category').apply(lambda x: x.sample(frac=0.8, random_state=42)).reset_index(drop=True)\n",
    "train_ids = train_df['id'].unique()\n",
    "test_df = df[~df['id'].isin(train_ids)].reset_index(drop=True)\n",
    "val_df = train_df.groupby('category').apply(lambda x: x.sample(frac=0.1, random_state=42)).reset_index(drop=True)\n",
    "val_ids = val_df['id'].unique()\n",
    "train_no_val_df = train_df[~train_df['id'].isin(val_ids)].reset_index(drop=True)\n",
    "print(train_df.shape, test_df.shape, val_df.shape, train_no_val_df.shape)\n",
    "\n",
    "train_df.to_pickle('TRAIN/SET/SAVE/PATH')\n",
    "val_df.to_pickle('VAL/SET/SAVE/PATH')\n",
    "test_df.to_pickle('TEST/SET/SAVE/PATH')\n",
    "train_no_val_df.to_pickle('TRAIN/NO/VAL/SET/SAVE/PATH')\n",
    "    "
   ]
  }
 ],
 "metadata": {
  "kernelspec": {
   "display_name": "ultimate_env",
   "language": "python",
   "name": "python3"
  },
  "language_info": {
   "codemirror_mode": {
    "name": "ipython",
    "version": 3
   },
   "file_extension": ".py",
   "mimetype": "text/x-python",
   "name": "python",
   "nbconvert_exporter": "python",
   "pygments_lexer": "ipython3",
   "version": "3.10.13"
  }
 },
 "nbformat": 4,
 "nbformat_minor": 5
}
